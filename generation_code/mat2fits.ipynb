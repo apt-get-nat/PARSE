{
 "cells": [
  {
   "cell_type": "code",
   "execution_count": 1,
   "id": "8ff76961",
   "metadata": {},
   "outputs": [],
   "source": [
    "import scipy\n",
    "from astropy.io import fits\n",
    "import h5py\n",
    "import numpy as np\n",
    "import drms\n",
    "from glob import glob\n",
    "from tqdm import tqdm"
   ]
  },
  {
   "cell_type": "code",
   "execution_count": 20,
   "id": "4869b008",
   "metadata": {},
   "outputs": [],
   "source": [
    "c = drms.Client(email = 'example@email.com', verbose=False)\n",
    "series = 'hmi.sharp_cea_720s'\n",
    "kwlist = ['T_REC','HARPNUM','USFLUX','LON_MIN','LON_MAX','LAT_MIN','LAT_MAX','NOAA_ARS','AREA',\n",
    "          'CDELT1','CDELT2','RSUN_OBS','RSUN_REF','NAXIS1','NAXIS2',\n",
    "          'CRPIX1','CRPIX2','CRVAL1','CRVAL2','CUNIT1','CUNIT2']\n",
    "version = '1.0.0'"
   ]
  },
  {
   "cell_type": "code",
   "execution_count": 21,
   "id": "d150563e",
   "metadata": {},
   "outputs": [
    {
     "name": "stderr",
     "output_type": "stream",
     "text": [
      "100%|██████████████████████████████████████████████████████████████████████████████| 2628/2628 [22:31<00:00,  1.94it/s]\n"
     ]
    }
   ],
   "source": [
    "for sharp in tqdm(range(7050,9678)):\n",
    "    sims = glob(f\"D:\\\\MHS_solutions_v4\\\\sharp{sharp}.mat\")\n",
    "\n",
    "    if len(sims) > 0:\n",
    "        simname = sims[0]\n",
    "        sharpname = glob(f\"D:\\\\sharp_data_v3\\\\*.{sharp}.*.Br.fits\")[0]\n",
    "        sharpstamp = sharpname.split('.')[3]\n",
    "        sharpstamp_q = f'{sharpstamp[0:4]}.{sharpstamp[4:6]}.{sharpstamp[6:8]}_{sharpstamp[9:11]}:{sharpstamp[11:13]}:{sharpstamp[13:15]}'\n",
    "\n",
    "        sharpimagename = glob(f\"D:\\\\sharp_data_v3\\\\*.{sharp}.*.Br.fits\")[0]\n",
    "        sharp_hdul = fits.open(sharpimagename)\n",
    "        \n",
    "        k = c.query('%s[%d][%s]' % (series, sharp, sharpstamp_q), key=kwlist)\n",
    "\n",
    "        try:\n",
    "            mat = scipy.io.loadmat(simname)\n",
    "        except NotImplementedError:\n",
    "            mat = {}\n",
    "            f = h5py.File(simname)\n",
    "            for k,v in f.items():\n",
    "                mat[k] = np.array(v)\n",
    "\n",
    "        n = int(mat['n'])\n",
    "        rns = np.concatenate(([[0]],np.array(mat['rns'])),0)\n",
    "        nodes = np.array(mat['nodes'])\n",
    "        Bs = np.concatenate((np.array(mat['Bff']),np.array(mat['Bns'])),1)\n",
    "        Fs = np.concatenate((np.zeros((3*n,1)),np.array(mat['forcevec'])),1)\n",
    "        \n",
    "        for j in range(7):\n",
    "            B = np.stack((Bs[0:n,j],Bs[n:2*n,j],Bs[2*n:3*n,j]),1)\n",
    "            F = np.stack((Fs[0:n,j],Fs[n:2*n,j],Fs[2*n:3*n,j]),1)\n",
    "\n",
    "            hdr = fits.Header()\n",
    "            hdr['SIM_N'] = n\n",
    "            if j == 0:\n",
    "                hdr['SIM_L2'] = 'NULL'\n",
    "            else:\n",
    "                hdr['SIM_L2'] = rns[j,0]\n",
    "            \n",
    "            hdr['LEN_X'] = int(k.iloc[0].RSUN_REF / k.iloc[0].RSUN_OBS * k.iloc[0].CDELT1 * sharp_hdul[1].header['NAXIS1'])\n",
    "            hdr['LEN_Y'] = int(k.iloc[0].RSUN_REF / k.iloc[0].RSUN_OBS * k.iloc[0].CDELT2 * sharp_hdul[1].header['NAXIS2'])\n",
    "            hdr['LEN_Z'] = 2*max([hdr['LEN_X'],hdr['LEN_Y']])\n",
    "            hdr['LEN_UNIT'] = 'meters'\n",
    "            \n",
    "            hdr['SHARPNUM'] = sharp\n",
    "            hdr['ARNUM'] = k.iloc[0].NOAA_ARS\n",
    "            hdr['TAI_REC'] = sharpstamp_q\n",
    "            hdr['USFLUX'] = k.iloc[0].USFLUX\n",
    "            hdr['AREA'] = k.iloc[0].AREA\n",
    "            hdr['LON_MIN'] = k.iloc[0].LON_MIN\n",
    "            hdr['LAT_MIN'] = k.iloc[0].LAT_MIN\n",
    "            hdr['LON_MAX'] = k.iloc[0].LON_MAX\n",
    "            hdr['LAT_MAX'] = k.iloc[0].LAT_MAX\n",
    "            \n",
    "            hdr['S_NAXIS1'] = sharp_hdul[1].header['NAXIS1']\n",
    "            hdr['S_NAXIS2'] = sharp_hdul[1].header['NAXIS2']\n",
    "            hdr['S_CRPIX1'] = k.iloc[0].CRPIX1\n",
    "            hdr['S_CRPIX2'] = k.iloc[0].CRPIX2\n",
    "            hdr['S_CRVAL1'] = k.iloc[0].CRVAL1\n",
    "            hdr['S_CRVAL2'] = k.iloc[0].CRVAL2\n",
    "            hdr['S_CUNIT1'] = k.iloc[0].CUNIT1\n",
    "            hdr['S_CUNIT2'] = k.iloc[0].CUNIT2\n",
    "            hdr['S_CDELT1'] = k.iloc[0].CDELT1\n",
    "            hdr['S_CDELT2'] = k.iloc[0].CDELT2\n",
    "            \n",
    "            hdr['VERSION'] = version\n",
    "            \n",
    "            hdulist = fits.HDUList([\n",
    "                fits.PrimaryHDU(header=hdr),\n",
    "                fits.ImageHDU(Bs[0:n,j],name='BX'),\n",
    "                fits.ImageHDU(Bs[n:2*n,j],name='BY'),\n",
    "                fits.ImageHDU(Bs[2*n:3*n,j],name='BZ'),\n",
    "                fits.ImageHDU(nodes[:,0],name='NODEX'),\n",
    "                fits.ImageHDU(nodes[:,1],name='NODEY'),\n",
    "                fits.ImageHDU(nodes[:,2],name='NODEZ'),\n",
    "                fits.ImageHDU(Fs[0:n,j],name='FX'),\n",
    "                fits.ImageHDU(Fs[n:2*n,j],name='FY'),\n",
    "                fits.ImageHDU(Fs[2*n:3*n,j],name='FZ')\n",
    "            ])\n",
    "\n",
    "            hdulist.writeto(f'D:\\\\MHS_solutions_fits\\\\PARSE.simulation.{version}.sharp.{sharp}.realization.{j}.fits',overwrite=True,checksum=True)"
   ]
  },
  {
   "cell_type": "code",
   "execution_count": null,
   "id": "eb68a2fe",
   "metadata": {},
   "outputs": [],
   "source": [
    "# fits_image_filename = f\"D:\\sharp_data_v3\\hmi.sharp_cea_720s.{sharp}.20170618_043600_TAI.Br.fits\";\n",
    "fits_image_filename = f'D:\\\\MHS_solutions_fits\\\\sharp{7050}.fits'\n",
    "sharp_hdul = fits.open(fits_image_filename)\n",
    "sharp_hdul[0].header"
   ]
  },
  {
   "cell_type": "code",
   "execution_count": null,
   "id": "75960621",
   "metadata": {},
   "outputs": [],
   "source": [
    "for sharpfilename in glob(f\"D:\\\\sharp_data_v3\\\\*.{sharp}.*.Br.fits\"):\n",
    "    sharptime = sharpfilename.split('.')[3]\n",
    "    print(f'{sharptime[0:4]}.{sharptime[4:6]}.{sharptime[6:8]}_{sharptime[9:11]}:{sharptime[11:13]}:{sharptime[13:15]}')"
   ]
  },
  {
   "cell_type": "code",
   "execution_count": null,
   "id": "2cd5ca26",
   "metadata": {},
   "outputs": [],
   "source": [
    "hdulist[0].header"
   ]
  },
  {
   "cell_type": "code",
   "execution_count": null,
   "id": "22aadac1",
   "metadata": {},
   "outputs": [],
   "source": [
    "simname = glob(f\"D:\\\\MHS_solutions_v4\\\\sharp{7000}.mat\")\n",
    "print(simname)"
   ]
  },
  {
   "cell_type": "code",
   "execution_count": 15,
   "id": "90389287",
   "metadata": {},
   "outputs": [
    {
     "data": {
      "text/plain": [
       "SIM_N   =                98968                                                  \n",
       "SIM_L2  =   0.5930192490584691                                                  \n",
       "LEN_X   =             11850875                                                  \n",
       "LEN_Y   =              4267199                                                  \n",
       "LEN_Z   =             23701750                                                  \n",
       "LEN_UNIT= 'meters  '                                                            \n",
       "SHARPNUM=                 7050                                                  \n",
       "ARNUM   = '12663   '                                                            \n",
       "TAI_REC = '2017.06.18_04:36:00'                                                 \n",
       "USFLUX  =         6.688882E+21                                                  \n",
       "AREA    =          2833.474365                                                  \n",
       "LAT_MIN =             11.33781                                                  \n",
       "LON_MIN =            16.650066                                                  \n",
       "LAT_MAX =             22.81002                                                  \n",
       "LON_MAX =            37.513588                                                  \n",
       "SHNAXIS1=                  536                                                  \n",
       "SHNAXIS2=                  193                                                  \n",
       "SHCRPIX1=                268.5                                                  \n",
       "SHCRPIX2=                 97.0                                                  \n",
       "SHCRVAL1=    94.96116600000001                                                  \n",
       "SHCRVAL2=            14.091351                                                  \n",
       "SHCUNIT1= 'degree  '                                                            \n",
       "SHCUNIT2= 'degree  '                                                            \n",
       "SHCDELT1=                 0.03                                                  \n",
       "SHCDELT2=                 0.03                                                  \n",
       "VERSION = '1.0     '                                                            "
      ]
     },
     "execution_count": 15,
     "metadata": {},
     "output_type": "execute_result"
    }
   ],
   "source": [
    "hdr"
   ]
  },
  {
   "cell_type": "code",
   "execution_count": null,
   "id": "6de073ab",
   "metadata": {},
   "outputs": [],
   "source": [
    "k = c.query('%s[%d]' % (series, sharp), key=kwlist)"
   ]
  },
  {
   "cell_type": "code",
   "execution_count": null,
   "id": "22b851d3",
   "metadata": {},
   "outputs": [],
   "source": [
    "fname = glob(f\"D:\\\\sharp_data_v3\\\\*.{sharp}.*.Br.fits\")[0]\n",
    "hdul = fits.open(fname)"
   ]
  },
  {
   "cell_type": "code",
   "execution_count": null,
   "id": "7e4f5248",
   "metadata": {},
   "outputs": [],
   "source": [
    "type(hdul[1].data[0,0])"
   ]
  },
  {
   "cell_type": "code",
   "execution_count": null,
   "id": "f2e8dc18",
   "metadata": {},
   "outputs": [],
   "source": [
    "hdul[0].header"
   ]
  },
  {
   "cell_type": "code",
   "execution_count": null,
   "id": "c2b47a5a",
   "metadata": {},
   "outputs": [],
   "source": [
    "sharp = 7050\n",
    "sims = glob(f\"D:\\\\MHS_solutions_v4\\\\sharp{sharp}.mat\")\n",
    "simname = sims[0]\n",
    "sharpname = glob(f\"D:\\\\sharp_data_v3\\\\*.{sharp}.*.Br.fits\")[0]\n",
    "sharpstamp = sharpname.split('.')[3]\n",
    "sharpstamp_q = f'{sharpstamp[0:4]}.{sharpstamp[4:6]}.{sharpstamp[6:8]}_{sharpstamp[9:11]}:{sharpstamp[11:13]}:{sharpstamp[13:15]}'\n",
    "\n",
    "k = c.query('%s[%d][%s]' % (series, sharp, sharpstamp_q), key=kwlist)"
   ]
  },
  {
   "cell_type": "code",
   "execution_count": null,
   "id": "e54c7134",
   "metadata": {},
   "outputs": [],
   "source": [
    "dir(k.iloc[0])"
   ]
  },
  {
   "cell_type": "code",
   "execution_count": null,
   "id": "1ed5c860",
   "metadata": {},
   "outputs": [],
   "source": [
    "k.iloc[0].NAXIS2"
   ]
  },
  {
   "cell_type": "code",
   "execution_count": null,
   "id": "922ba6e7",
   "metadata": {},
   "outputs": [],
   "source": [
    "int(k.iloc[0].RSUN_REF / k.iloc[0].RSUN_OBS * k.iloc[0].CDELT1 * hdul[1].header['NAXIS1'])"
   ]
  },
  {
   "cell_type": "code",
   "execution_count": null,
   "id": "53fe705d",
   "metadata": {},
   "outputs": [],
   "source": [
    "k.iloc[0].CRPIX1"
   ]
  },
  {
   "cell_type": "code",
   "execution_count": null,
   "id": "c2c7149b",
   "metadata": {},
   "outputs": [],
   "source": [
    "k.iloc[0].CRVAL1"
   ]
  },
  {
   "cell_type": "code",
   "execution_count": null,
   "id": "9f22d431",
   "metadata": {},
   "outputs": [],
   "source": [
    "k.iloc[0].RSUN_REF"
   ]
  },
  {
   "cell_type": "code",
   "execution_count": null,
   "id": "1fb665f7",
   "metadata": {},
   "outputs": [],
   "source": [
    "k.iloc[0].CDELT2"
   ]
  },
  {
   "cell_type": "code",
   "execution_count": null,
   "id": "41143bcb",
   "metadata": {},
   "outputs": [],
   "source": [
    "max([k.iloc[0].RSUN_REF,k.iloc[0].CDELT2])"
   ]
  },
  {
   "cell_type": "code",
   "execution_count": null,
   "id": "d1d35a3c",
   "metadata": {},
   "outputs": [],
   "source": []
  }
 ],
 "metadata": {
  "kernelspec": {
   "display_name": "Python 3 (ipykernel)",
   "language": "python",
   "name": "python3"
  },
  "language_info": {
   "codemirror_mode": {
    "name": "ipython",
    "version": 3
   },
   "file_extension": ".py",
   "mimetype": "text/x-python",
   "name": "python",
   "nbconvert_exporter": "python",
   "pygments_lexer": "ipython3",
   "version": "3.10.11"
  }
 },
 "nbformat": 4,
 "nbformat_minor": 5
}
