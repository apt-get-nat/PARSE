{
 "cells": [
  {
   "cell_type": "code",
   "execution_count": 1,
   "id": "c8cbe093",
   "metadata": {},
   "outputs": [],
   "source": [
    "import numpy as np\n",
    "import parse\n",
    "import pyvista as pv\n",
    "import importlib"
   ]
  },
  {
   "cell_type": "code",
   "execution_count": 2,
   "id": "96bee207",
   "metadata": {},
   "outputs": [],
   "source": [
    "importlib.reload(parse)\n",
    "parse.pullPARSE(7821,0)\n",
    "data = parse.readPARSE((7821,0))"
   ]
  },
  {
   "cell_type": "code",
   "execution_count": null,
   "id": "aee29c8a",
   "metadata": {},
   "outputs": [],
   "source": [
    "data.compile_grid()\n",
    "xseed,yseed = np.meshgrid(np.linspace(0,max(data.nodes[:,0]),20),np.linspace(0,max(data.nodes[:,1]),20))\n",
    "seedpoints = np.vstack((xseed.ravel(),yseed.ravel(),np.zeros(20**2))).transpose()\n",
    "fieldlines = data.fieldlines(seedpoints)"
   ]
  },
  {
   "cell_type": "code",
   "execution_count": null,
   "id": "62409aa2",
   "metadata": {},
   "outputs": [],
   "source": [
    "pl = pv.Plotter()\n",
    "Zmesh = pv.ImageData()\n",
    "Zmesh.dimensions = np.array([len(data.Bgrid.xcoords),len(data.Bgrid.ycoords),len(data.Bgrid.zcoords)])+1\n",
    "Zmesh.spacing = data.Bgrid.grid_spacing\n",
    "Zmesh.cell_data[\"values\"] = data.Bgrid.vectors[:,:,:,2].ravel(\"F\")\n",
    "pl.add_mesh(Zmesh.slice(normal=[0,0,1],origin=[1e-2,1e-2,1e-2]))\n",
    "for stream in fieldlines:\n",
    "    pl.add_lines(stream,color='black',width=1,connected = True)\n",
    "pl.show(jupyter_backend='trame')"
   ]
  },
  {
   "cell_type": "code",
   "execution_count": null,
   "id": "49a81c9f",
   "metadata": {},
   "outputs": [],
   "source": []
  }
 ],
 "metadata": {
  "kernelspec": {
   "display_name": "Python 3 (ipykernel)",
   "language": "python",
   "name": "python3"
  },
  "language_info": {
   "codemirror_mode": {
    "name": "ipython",
    "version": 3
   },
   "file_extension": ".py",
   "mimetype": "text/x-python",
   "name": "python",
   "nbconvert_exporter": "python",
   "pygments_lexer": "ipython3",
   "version": "3.10.11"
  }
 },
 "nbformat": 4,
 "nbformat_minor": 5
}
