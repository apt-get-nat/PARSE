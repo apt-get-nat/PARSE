{
 "cells": [
  {
   "cell_type": "code",
   "execution_count": 1,
   "id": "2f02dda1",
   "metadata": {},
   "outputs": [],
   "source": [
    "import drms\n",
    "import os\n",
    "import numpy as np\n",
    "import math\n",
    "from tqdm import tqdm"
   ]
  },
  {
   "cell_type": "code",
   "execution_count": 2,
   "id": "98a49122",
   "metadata": {},
   "outputs": [],
   "source": [
    "series = 'hmi.sharp_cea_720s'\n",
    "segments = ['Bt','Br','Bp']\n",
    "kwlist = ['T_REC','HARPNUM','USFLUX','LON_FWT','LAT_FWT','NOAA_ARS','AREA']\n",
    "\n",
    "c = drms.Client(email = 'example@email.com', verbose=False)\n",
    "out_dir = 'C:\\\\sharp_data_v3'\n",
    "if not os.path.exists(out_dir):\n",
    "    os.mkdir(out_dir)"
   ]
  },
  {
   "cell_type": "code",
   "execution_count": 5,
   "id": "1c28f142",
   "metadata": {},
   "outputs": [
    {
     "name": "stderr",
     "output_type": "stream",
     "text": [
      "100%|██████████████████████████████████████████████████████████████████████████████| 1309/1309 [32:51<00:00,  1.51s/it]\n"
     ]
    }
   ],
   "source": [
    "download_array = [] # range(7050,8369)\n",
    "for sharpnum in tqdm(range(8369,9678)):\n",
    "    k = c.query('%s[%d]' % (series, sharpnum), key=kwlist)\n",
    "    try:\n",
    "        k = k.loc[k.LON_FWT.abs() < 60]\n",
    "        k = k.loc[k.LAT_FWT.abs() < 60]\n",
    "        k = k.loc[k.AREA > 100] # 100 MSH is approx. 100x100 *10^5km, so approx. 100x100 pixels.\n",
    "        k = k.loc[k.USFLUX > k.USFLUX.quantile(0.75)]\n",
    "        rec_sample = (k.LON_FWT.pow(2)+k.LAT_FWT.pow(2)).idxmin()\n",
    "    except AttributeError:\n",
    "        # Sharp number not present\n",
    "        continue\n",
    "    except ValueError:\n",
    "        # Sharp too close to disk edge\n",
    "        continue\n",
    "#     print('{number}{ar}: {flux} @ ({lat},{lon})'.format(\n",
    "#         number=sharpnum, ar = (f' ({k.NOAA_ARS[rec_sample]})' if k.NOAA_ARS[rec_sample] != 'MISSING' else ''),\n",
    "#         flux=k.USFLUX[rec_sample], lat=k.LAT_FWT[rec_sample], lon=k.LON_FWT[rec_sample]\n",
    "#     ))\n",
    "    k_sample = k.loc[rec_sample]\n",
    "    t_sample = datetime(k.T_REC[rec_sample])\n",
    "    fname_mask = '{series}[{sharpnum}][{tstr}]'\n",
    "    download_array.append(fname_mask.format(\n",
    "        series=series,sharpnum=sharpnum,tstr=t_sample.queryFormat()\n",
    "    ) + '{%s}'%(','.join(segments)))\n"
   ]
  },
  {
   "cell_type": "code",
   "execution_count": 6,
   "id": "1c516f2a",
   "metadata": {},
   "outputs": [
    {
     "name": "stderr",
     "output_type": "stream",
     "text": [
      "100%|██████████████████████████████████████████████████████████████████████████████████| 45/45 [44:11<00:00, 58.91s/it]\n"
     ]
    }
   ],
   "source": [
    "# JSOC gets mad if you request too many files at once, so we have to split up into smaller requests.\n",
    "arrs = np.array_split(download_array,math.ceil(len(download_array)/15))\n",
    "\n",
    "for arr in tqdm(arrs):\n",
    "    exp_query = ','.join(arr)\n",
    "#     print('Request: ' + exp_query)\n",
    "    request = c.export(exp_query)\n",
    "    request.download(out_dir)"
   ]
  },
  {
   "cell_type": "code",
   "execution_count": 4,
   "id": "7e6382c7",
   "metadata": {},
   "outputs": [],
   "source": [
    "class datetime:\n",
    "    def __init__(self, str):\n",
    "        arr = str.split('_')\n",
    "        self.date = arr[0].split('.')\n",
    "        self.time = arr[1].split(':')\n",
    "        self.TAI = (arr[2] == 'TAI')\n",
    "        self.year = self.date[0]\n",
    "        self.month = self.date[1]\n",
    "        self.day = self.date[2]\n",
    "        self.hour = self.time[0]\n",
    "        self.minute = self.time[1]\n",
    "        self.second = self.time[2]\n",
    "    def sharpFormat(self):\n",
    "        string = '{year}{month}{day}_{hour}{minute}{second}'\n",
    "        if self.TAI:\n",
    "            string = string + '_TAI'\n",
    "        return string.format(\n",
    "            year=self.year,month=self.month,day=self.day,\n",
    "            hour=self.hour,minute=self.minute,second=self.second\n",
    "        )\n",
    "    def queryFormat(self):\n",
    "        string = '{year}.{month}.{day}_{hour}:{minute}:{second}'\n",
    "        return string.format(\n",
    "            year=self.year,month=self.month,day=self.day,\n",
    "            hour=self.hour,minute=self.minute,second=self.second\n",
    "        )"
   ]
  },
  {
   "cell_type": "code",
   "execution_count": null,
   "id": "192139e2",
   "metadata": {},
   "outputs": [],
   "source": [
    "k = c.query('%s[%d]' % (series, 7300), key=kwlist)"
   ]
  },
  {
   "cell_type": "code",
   "execution_count": null,
   "id": "a21f7a7c",
   "metadata": {},
   "outputs": [],
   "source": [
    "k.AREA"
   ]
  },
  {
   "cell_type": "code",
   "execution_count": null,
   "id": "99e4748a",
   "metadata": {},
   "outputs": [],
   "source": []
  }
 ],
 "metadata": {
  "kernelspec": {
   "display_name": "Python 3 (ipykernel)",
   "language": "python",
   "name": "python3"
  },
  "language_info": {
   "codemirror_mode": {
    "name": "ipython",
    "version": 3
   },
   "file_extension": ".py",
   "mimetype": "text/x-python",
   "name": "python",
   "nbconvert_exporter": "python",
   "pygments_lexer": "ipython3",
   "version": "3.10.11"
  }
 },
 "nbformat": 4,
 "nbformat_minor": 5
}
